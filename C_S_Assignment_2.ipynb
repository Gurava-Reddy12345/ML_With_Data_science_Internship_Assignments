{
 "cells": [
  {
   "cell_type": "code",
   "execution_count": 26,
   "id": "da8fd6ce-187d-4f31-a4f6-d199f7928fc2",
   "metadata": {},
   "outputs": [
    {
     "data": {
      "text/html": [
       "<div>\n",
       "<style scoped>\n",
       "    .dataframe tbody tr th:only-of-type {\n",
       "        vertical-align: middle;\n",
       "    }\n",
       "\n",
       "    .dataframe tbody tr th {\n",
       "        vertical-align: top;\n",
       "    }\n",
       "\n",
       "    .dataframe thead th {\n",
       "        text-align: right;\n",
       "    }\n",
       "</style>\n",
       "<table border=\"1\" class=\"dataframe\">\n",
       "  <thead>\n",
       "    <tr style=\"text-align: right;\">\n",
       "      <th></th>\n",
       "      <th>EmployeeID</th>\n",
       "      <th>Name</th>\n",
       "      <th>Gender</th>\n",
       "      <th>Department</th>\n",
       "      <th>Salary</th>\n",
       "      <th>JoinDate</th>\n",
       "      <th>PerformanceRating</th>\n",
       "    </tr>\n",
       "  </thead>\n",
       "  <tbody>\n",
       "    <tr>\n",
       "      <th>0</th>\n",
       "      <td>E001</td>\n",
       "      <td>Dr. Lisa Rogers</td>\n",
       "      <td>Male</td>\n",
       "      <td>Marketing</td>\n",
       "      <td>108988.18</td>\n",
       "      <td>13-11-2021</td>\n",
       "      <td>4</td>\n",
       "    </tr>\n",
       "    <tr>\n",
       "      <th>1</th>\n",
       "      <td>E002</td>\n",
       "      <td>Nichole Peterson</td>\n",
       "      <td>Female</td>\n",
       "      <td>Finance</td>\n",
       "      <td>31002.41</td>\n",
       "      <td>02-07-2015</td>\n",
       "      <td>5</td>\n",
       "    </tr>\n",
       "    <tr>\n",
       "      <th>2</th>\n",
       "      <td>E003</td>\n",
       "      <td>Paul Blair</td>\n",
       "      <td>Female</td>\n",
       "      <td>Sales</td>\n",
       "      <td>73663.33</td>\n",
       "      <td>04-05-2023</td>\n",
       "      <td>1</td>\n",
       "    </tr>\n",
       "  </tbody>\n",
       "</table>\n",
       "</div>"
      ],
      "text/plain": [
       "  EmployeeID              Name  Gender Department     Salary    JoinDate  \\\n",
       "0       E001   Dr. Lisa Rogers    Male  Marketing  108988.18  13-11-2021   \n",
       "1       E002  Nichole Peterson  Female    Finance   31002.41  02-07-2015   \n",
       "2       E003        Paul Blair  Female      Sales   73663.33  04-05-2023   \n",
       "\n",
       "   PerformanceRating  \n",
       "0                  4  \n",
       "1                  5  \n",
       "2                  1  "
      ]
     },
     "execution_count": 26,
     "metadata": {},
     "output_type": "execute_result"
    }
   ],
   "source": [
    "import numpy as np\n",
    "import pandas as pd\n",
    "df=pd.read_csv(\"employee_performance.csv\")\n",
    "df.head(3)"
   ]
  },
  {
   "cell_type": "code",
   "execution_count": 42,
   "id": "f064afeb-9751-4e1b-b71f-6e853d972ed6",
   "metadata": {},
   "outputs": [
    {
     "name": "stderr",
     "output_type": "stream",
     "text": [
      "C:\\Users\\hp\\AppData\\Local\\Temp\\ipykernel_13420\\741323271.py:1: UserWarning: Parsing dates in %d-%m-%Y format when dayfirst=False (the default) was specified. Pass `dayfirst=True` or specify a format to silence this warning.\n",
      "  df['JoinDate'] = pd.to_datetime(df['JoinDate'], errors='coerce')\n"
     ]
    },
    {
     "data": {
      "text/html": [
       "<div>\n",
       "<style scoped>\n",
       "    .dataframe tbody tr th:only-of-type {\n",
       "        vertical-align: middle;\n",
       "    }\n",
       "\n",
       "    .dataframe tbody tr th {\n",
       "        vertical-align: top;\n",
       "    }\n",
       "\n",
       "    .dataframe thead th {\n",
       "        text-align: right;\n",
       "    }\n",
       "</style>\n",
       "<table border=\"1\" class=\"dataframe\">\n",
       "  <thead>\n",
       "    <tr style=\"text-align: right;\">\n",
       "      <th></th>\n",
       "      <th>EmployeeID</th>\n",
       "      <th>Name</th>\n",
       "      <th>Gender</th>\n",
       "      <th>Department</th>\n",
       "      <th>Salary</th>\n",
       "      <th>JoinDate</th>\n",
       "      <th>PerformanceRating</th>\n",
       "      <th>Tenure</th>\n",
       "      <th>SalaryCategory</th>\n",
       "    </tr>\n",
       "  </thead>\n",
       "  <tbody>\n",
       "    <tr>\n",
       "      <th>0</th>\n",
       "      <td>E001</td>\n",
       "      <td>Dr. Lisa Rogers</td>\n",
       "      <td>Male</td>\n",
       "      <td>Marketing</td>\n",
       "      <td>108988.18</td>\n",
       "      <td>13-11-2021</td>\n",
       "      <td>4</td>\n",
       "      <td>4</td>\n",
       "      <td>High</td>\n",
       "    </tr>\n",
       "    <tr>\n",
       "      <th>1</th>\n",
       "      <td>E002</td>\n",
       "      <td>Nichole Peterson</td>\n",
       "      <td>Female</td>\n",
       "      <td>Finance</td>\n",
       "      <td>31002.41</td>\n",
       "      <td>02-07-2015</td>\n",
       "      <td>5</td>\n",
       "      <td>10</td>\n",
       "      <td>Low</td>\n",
       "    </tr>\n",
       "    <tr>\n",
       "      <th>2</th>\n",
       "      <td>E003</td>\n",
       "      <td>Paul Blair</td>\n",
       "      <td>Female</td>\n",
       "      <td>Sales</td>\n",
       "      <td>73663.33</td>\n",
       "      <td>04-05-2023</td>\n",
       "      <td>1</td>\n",
       "      <td>2</td>\n",
       "      <td>Medium</td>\n",
       "    </tr>\n",
       "    <tr>\n",
       "      <th>3</th>\n",
       "      <td>E004</td>\n",
       "      <td>Michelle Thomas</td>\n",
       "      <td>Other</td>\n",
       "      <td>Marketing</td>\n",
       "      <td>84044.55</td>\n",
       "      <td>18-11-2019</td>\n",
       "      <td>1</td>\n",
       "      <td>6</td>\n",
       "      <td>Medium</td>\n",
       "    </tr>\n",
       "    <tr>\n",
       "      <th>4</th>\n",
       "      <td>E005</td>\n",
       "      <td>Jessica Berg</td>\n",
       "      <td>Female</td>\n",
       "      <td>Marketing</td>\n",
       "      <td>92527.68</td>\n",
       "      <td>30-11-2019</td>\n",
       "      <td>3</td>\n",
       "      <td>6</td>\n",
       "      <td>High</td>\n",
       "    </tr>\n",
       "  </tbody>\n",
       "</table>\n",
       "</div>"
      ],
      "text/plain": [
       "  EmployeeID              Name  Gender Department     Salary    JoinDate  \\\n",
       "0       E001   Dr. Lisa Rogers    Male  Marketing  108988.18  13-11-2021   \n",
       "1       E002  Nichole Peterson  Female    Finance   31002.41  02-07-2015   \n",
       "2       E003        Paul Blair  Female      Sales   73663.33  04-05-2023   \n",
       "3       E004   Michelle Thomas   Other  Marketing   84044.55  18-11-2019   \n",
       "4       E005      Jessica Berg  Female  Marketing   92527.68  30-11-2019   \n",
       "\n",
       "   PerformanceRating  Tenure SalaryCategory  \n",
       "0                  4       4           High  \n",
       "1                  5      10            Low  \n",
       "2                  1       2         Medium  \n",
       "3                  1       6         Medium  \n",
       "4                  3       6           High  "
      ]
     },
     "execution_count": 42,
     "metadata": {},
     "output_type": "execute_result"
    }
   ],
   "source": [
    "df['JoinDate'] = pd.to_datetime(df['JoinDate'], errors='coerce')\n",
    "df['Tenure'] = 2025 - df['JoinDate'].dt.year\n",
    "df['JoinDate'] = df['JoinDate'].dt.strftime('%d-%m-%Y')\n",
    "df.head()"
   ]
  },
  {
   "cell_type": "code",
   "execution_count": 40,
   "id": "f3d9e10c-a56e-4b70-bef7-4d251083420c",
   "metadata": {},
   "outputs": [
    {
     "data": {
      "text/html": [
       "<div>\n",
       "<style scoped>\n",
       "    .dataframe tbody tr th:only-of-type {\n",
       "        vertical-align: middle;\n",
       "    }\n",
       "\n",
       "    .dataframe tbody tr th {\n",
       "        vertical-align: top;\n",
       "    }\n",
       "\n",
       "    .dataframe thead th {\n",
       "        text-align: right;\n",
       "    }\n",
       "</style>\n",
       "<table border=\"1\" class=\"dataframe\">\n",
       "  <thead>\n",
       "    <tr style=\"text-align: right;\">\n",
       "      <th></th>\n",
       "      <th>EmployeeID</th>\n",
       "      <th>Name</th>\n",
       "      <th>Gender</th>\n",
       "      <th>Department</th>\n",
       "      <th>Salary</th>\n",
       "      <th>JoinDate</th>\n",
       "      <th>PerformanceRating</th>\n",
       "      <th>Tenure</th>\n",
       "      <th>SalaryCategory</th>\n",
       "    </tr>\n",
       "  </thead>\n",
       "  <tbody>\n",
       "    <tr>\n",
       "      <th>0</th>\n",
       "      <td>E001</td>\n",
       "      <td>Dr. Lisa Rogers</td>\n",
       "      <td>Male</td>\n",
       "      <td>Marketing</td>\n",
       "      <td>108988.18</td>\n",
       "      <td>13-11-2021</td>\n",
       "      <td>4</td>\n",
       "      <td>4</td>\n",
       "      <td>High</td>\n",
       "    </tr>\n",
       "    <tr>\n",
       "      <th>1</th>\n",
       "      <td>E002</td>\n",
       "      <td>Nichole Peterson</td>\n",
       "      <td>Female</td>\n",
       "      <td>Finance</td>\n",
       "      <td>31002.41</td>\n",
       "      <td>02-07-2015</td>\n",
       "      <td>5</td>\n",
       "      <td>10</td>\n",
       "      <td>Low</td>\n",
       "    </tr>\n",
       "    <tr>\n",
       "      <th>2</th>\n",
       "      <td>E003</td>\n",
       "      <td>Paul Blair</td>\n",
       "      <td>Female</td>\n",
       "      <td>Sales</td>\n",
       "      <td>73663.33</td>\n",
       "      <td>04-05-2023</td>\n",
       "      <td>1</td>\n",
       "      <td>2</td>\n",
       "      <td>Medium</td>\n",
       "    </tr>\n",
       "    <tr>\n",
       "      <th>3</th>\n",
       "      <td>E004</td>\n",
       "      <td>Michelle Thomas</td>\n",
       "      <td>Other</td>\n",
       "      <td>Marketing</td>\n",
       "      <td>84044.55</td>\n",
       "      <td>18-11-2019</td>\n",
       "      <td>1</td>\n",
       "      <td>6</td>\n",
       "      <td>Medium</td>\n",
       "    </tr>\n",
       "    <tr>\n",
       "      <th>4</th>\n",
       "      <td>E005</td>\n",
       "      <td>Jessica Berg</td>\n",
       "      <td>Female</td>\n",
       "      <td>Marketing</td>\n",
       "      <td>92527.68</td>\n",
       "      <td>30-11-2019</td>\n",
       "      <td>3</td>\n",
       "      <td>6</td>\n",
       "      <td>High</td>\n",
       "    </tr>\n",
       "  </tbody>\n",
       "</table>\n",
       "</div>"
      ],
      "text/plain": [
       "  EmployeeID              Name  Gender Department     Salary    JoinDate  \\\n",
       "0       E001   Dr. Lisa Rogers    Male  Marketing  108988.18  13-11-2021   \n",
       "1       E002  Nichole Peterson  Female    Finance   31002.41  02-07-2015   \n",
       "2       E003        Paul Blair  Female      Sales   73663.33  04-05-2023   \n",
       "3       E004   Michelle Thomas   Other  Marketing   84044.55  18-11-2019   \n",
       "4       E005      Jessica Berg  Female  Marketing   92527.68  30-11-2019   \n",
       "\n",
       "   PerformanceRating  Tenure SalaryCategory  \n",
       "0                  4       4           High  \n",
       "1                  5      10            Low  \n",
       "2                  1       2         Medium  \n",
       "3                  1       6         Medium  \n",
       "4                  3       6           High  "
      ]
     },
     "execution_count": 40,
     "metadata": {},
     "output_type": "execute_result"
    }
   ],
   "source": [
    "# convert salary and perfomance rating to numeric\n",
    "df['Salary']=pd.to_numeric(df['Salary'],errors='coerce')\n",
    "df['PerformanceRating']=pd.to_numeric(df['PerformanceRating'],errors='coerce')\n",
    "df.head()"
   ]
  },
  {
   "cell_type": "code",
   "execution_count": 17,
   "id": "aea850e6-eb86-4b87-9c2f-18dac31f4467",
   "metadata": {},
   "outputs": [
    {
     "name": "stdout",
     "output_type": "stream",
     "text": [
      "missing_count:\n",
      "EmployeeID           0\n",
      "Name                 0\n",
      "Gender               0\n",
      "Department           0\n",
      "Salary               0\n",
      "JoinDate             0\n",
      "PerformanceRating    0\n",
      "dtype: int64\n"
     ]
    }
   ],
   "source": [
    "#finding missing values\n",
    "missing_count=df.isnull().sum()\n",
    "print(\"missing_count:\")\n",
    "print(missing_count)"
   ]
  },
  {
   "cell_type": "code",
   "execution_count": 31,
   "id": "158e29f7-0673-4f86-879e-9b08cef1b7ed",
   "metadata": {},
   "outputs": [
    {
     "data": {
      "text/html": [
       "<div>\n",
       "<style scoped>\n",
       "    .dataframe tbody tr th:only-of-type {\n",
       "        vertical-align: middle;\n",
       "    }\n",
       "\n",
       "    .dataframe tbody tr th {\n",
       "        vertical-align: top;\n",
       "    }\n",
       "\n",
       "    .dataframe thead th {\n",
       "        text-align: right;\n",
       "    }\n",
       "</style>\n",
       "<table border=\"1\" class=\"dataframe\">\n",
       "  <thead>\n",
       "    <tr style=\"text-align: right;\">\n",
       "      <th></th>\n",
       "      <th>EmployeeID</th>\n",
       "      <th>Name</th>\n",
       "      <th>Gender</th>\n",
       "      <th>Department</th>\n",
       "      <th>Salary</th>\n",
       "      <th>JoinDate</th>\n",
       "      <th>PerformanceRating</th>\n",
       "      <th>Tenure</th>\n",
       "      <th>SalaryCategory</th>\n",
       "    </tr>\n",
       "  </thead>\n",
       "  <tbody>\n",
       "    <tr>\n",
       "      <th>0</th>\n",
       "      <td>E001</td>\n",
       "      <td>Dr. Lisa Rogers</td>\n",
       "      <td>Male</td>\n",
       "      <td>Marketing</td>\n",
       "      <td>108988.18</td>\n",
       "      <td>2021-11-13</td>\n",
       "      <td>4</td>\n",
       "      <td>4</td>\n",
       "      <td>High</td>\n",
       "    </tr>\n",
       "    <tr>\n",
       "      <th>1</th>\n",
       "      <td>E002</td>\n",
       "      <td>Nichole Peterson</td>\n",
       "      <td>Female</td>\n",
       "      <td>Finance</td>\n",
       "      <td>31002.41</td>\n",
       "      <td>2015-07-02</td>\n",
       "      <td>5</td>\n",
       "      <td>10</td>\n",
       "      <td>Low</td>\n",
       "    </tr>\n",
       "    <tr>\n",
       "      <th>2</th>\n",
       "      <td>E003</td>\n",
       "      <td>Paul Blair</td>\n",
       "      <td>Female</td>\n",
       "      <td>Sales</td>\n",
       "      <td>73663.33</td>\n",
       "      <td>2023-05-04</td>\n",
       "      <td>1</td>\n",
       "      <td>2</td>\n",
       "      <td>Medium</td>\n",
       "    </tr>\n",
       "    <tr>\n",
       "      <th>3</th>\n",
       "      <td>E004</td>\n",
       "      <td>Michelle Thomas</td>\n",
       "      <td>Other</td>\n",
       "      <td>Marketing</td>\n",
       "      <td>84044.55</td>\n",
       "      <td>2019-11-18</td>\n",
       "      <td>1</td>\n",
       "      <td>6</td>\n",
       "      <td>Medium</td>\n",
       "    </tr>\n",
       "    <tr>\n",
       "      <th>4</th>\n",
       "      <td>E005</td>\n",
       "      <td>Jessica Berg</td>\n",
       "      <td>Female</td>\n",
       "      <td>Marketing</td>\n",
       "      <td>92527.68</td>\n",
       "      <td>2019-11-30</td>\n",
       "      <td>3</td>\n",
       "      <td>6</td>\n",
       "      <td>High</td>\n",
       "    </tr>\n",
       "  </tbody>\n",
       "</table>\n",
       "</div>"
      ],
      "text/plain": [
       "  EmployeeID              Name  Gender Department     Salary   JoinDate  \\\n",
       "0       E001   Dr. Lisa Rogers    Male  Marketing  108988.18 2021-11-13   \n",
       "1       E002  Nichole Peterson  Female    Finance   31002.41 2015-07-02   \n",
       "2       E003        Paul Blair  Female      Sales   73663.33 2023-05-04   \n",
       "3       E004   Michelle Thomas   Other  Marketing   84044.55 2019-11-18   \n",
       "4       E005      Jessica Berg  Female  Marketing   92527.68 2019-11-30   \n",
       "\n",
       "   PerformanceRating  Tenure SalaryCategory  \n",
       "0                  4       4           High  \n",
       "1                  5      10            Low  \n",
       "2                  1       2         Medium  \n",
       "3                  1       6         Medium  \n",
       "4                  3       6           High  "
      ]
     },
     "execution_count": 31,
     "metadata": {},
     "output_type": "execute_result"
    }
   ],
   "source": [
    "def categorize_salary(salary):\n",
    "    if pd.isna(salary):\n",
    "        return \"Unknown\"   \n",
    "    elif salary < 50000:\n",
    "        return \"Low\"\n",
    "    elif 50000 <= salary <= 90000:\n",
    "        return \"Medium\"\n",
    "    else:\n",
    "        return \"High\"\n",
    "\n",
    "df['SalaryCategory'] = df['Salary'].apply(categorize_salary)\n",
    "df.head()"
   ]
  },
  {
   "cell_type": "code",
   "execution_count": 32,
   "id": "0b1c4e46-4006-4b97-80ff-bb598867210d",
   "metadata": {},
   "outputs": [
    {
     "name": "stdout",
     "output_type": "stream",
     "text": [
      "Average Salary by Department:\n",
      " Department\n",
      "Finance      67804.804167\n",
      "HR           79740.074286\n",
      "IT           77536.544286\n",
      "Marketing    79803.912500\n",
      "Sales        69497.878333\n",
      "Name: Salary, dtype: float64\n"
     ]
    }
   ],
   "source": [
    "# average salary by department\n",
    "avg_sal_by_dept = df.groupby('Department')['Salary'].mean()\n",
    "print(\"Average Salary by Department:\\n\", avg_sal_by_dept)"
   ]
  },
  {
   "cell_type": "code",
   "execution_count": 36,
   "id": "bc91798e-6b19-4ac7-9218-bc2a1df7bae8",
   "metadata": {},
   "outputs": [
    {
     "name": "stdout",
     "output_type": "stream",
     "text": [
      "Gender Count by Department:\n",
      " Gender      Female  Male  Other\n",
      "Department                     \n",
      "Finance          4     6      2\n",
      "HR               5     1      1\n",
      "IT               4     2      1\n",
      "Marketing        3     5      4\n",
      "Sales            7     3      2\n"
     ]
    }
   ],
   "source": [
    "# gender count by department\n",
    "gender_count_by_dept = df.groupby(['Department', 'Gender']).size().unstack(fill_value=0)\n",
    "print(\"Gender Count by Department:\\n\", gender_count_by_dept)"
   ]
  },
  {
   "cell_type": "code",
   "execution_count": 37,
   "id": "614d8642-a25d-42d8-b10a-11b81194eeb8",
   "metadata": {},
   "outputs": [
    {
     "name": "stdout",
     "output_type": "stream",
     "text": [
      "Average Performance Rating by Department:\n",
      " Department\n",
      "Finance      2.416667\n",
      "HR           3.142857\n",
      "IT           3.714286\n",
      "Marketing    3.166667\n",
      "Sales        2.916667\n",
      "Name: PerformanceRating, dtype: float64\n"
     ]
    }
   ],
   "source": [
    "# average rating by department\n",
    "avg_rating_by_dept = df.groupby('Department')['PerformanceRating'].mean()\n",
    "print(\"Average Performance Rating by Department:\\n\", avg_rating_by_dept)"
   ]
  },
  {
   "cell_type": "code",
   "execution_count": 38,
   "id": "5a8f8c2d-254d-4e72-b687-729aa6e06976",
   "metadata": {},
   "outputs": [
    {
     "name": "stdout",
     "output_type": "stream",
     "text": [
      "Low Performers:\n",
      "    EmployeeID               Name  Gender Department     Salary   JoinDate  \\\n",
      "2        E003         Paul Blair  Female      Sales   73663.33 2023-05-04   \n",
      "3        E004    Michelle Thomas   Other  Marketing   84044.55 2019-11-18   \n",
      "12       E013        Louis Hicks    Male      Sales  118091.53 2022-12-04   \n",
      "13       E014     Sheila Winters  Female      Sales   99976.18 2023-01-07   \n",
      "14       E015     Richard Santos  Female         HR   94509.68 2023-04-10   \n",
      "17       E018       Roger Dennis  Female         IT  115486.28 2019-04-17   \n",
      "24       E025       Ashley Heath    Male    Finance   38102.06 2015-08-12   \n",
      "26       E027      Matthew Davis    Male  Marketing   74667.93 2017-01-16   \n",
      "27       E028      Melissa Chang    Male    Finance  118604.45 2017-02-11   \n",
      "28       E029   Chelsea Shepherd  Female    Finance   46971.69 2016-03-09   \n",
      "29       E030       John Carroll   Other         IT   49346.99 2022-04-20   \n",
      "31       E032        David Lynch  Female      Sales   72882.78 2021-11-03   \n",
      "35       E036      Jackson Patel   Other    Finance   72049.84 2022-02-05   \n",
      "37       E038      David Donovan    Male    Finance   69371.47 2021-03-31   \n",
      "38       E039      Tiffany Salas    Male      Sales   81455.58 2018-07-17   \n",
      "40       E041       Alison Smith    Male      Sales  116661.07 2019-04-13   \n",
      "41       E042       Teresa Perez   Other      Sales   53836.58 2020-10-17   \n",
      "46       E047     Ashley Roberts  Female  Marketing   39129.79 2020-01-06   \n",
      "47       E048  Anthony Johns DVM  Female    Finance   34766.63 2022-05-22   \n",
      "48       E049        Laura Ellis    Male         HR   30169.85 2022-07-01   \n",
      "\n",
      "    PerformanceRating  Tenure SalaryCategory  \n",
      "2                   1       2         Medium  \n",
      "3                   1       6         Medium  \n",
      "12                  2       3           High  \n",
      "13                  2       2           High  \n",
      "14                  2       2           High  \n",
      "17                  2       6           High  \n",
      "24                  1      10            Low  \n",
      "26                  1       8         Medium  \n",
      "27                  1       8           High  \n",
      "28                  1       9            Low  \n",
      "29                  2       3            Low  \n",
      "31                  2       4         Medium  \n",
      "35                  1       3         Medium  \n",
      "37                  2       4         Medium  \n",
      "38                  2       7         Medium  \n",
      "40                  2       6           High  \n",
      "41                  1       5         Medium  \n",
      "46                  1       5            Low  \n",
      "47                  2       3            Low  \n",
      "48                  2       3            Low  \n"
     ]
    }
   ],
   "source": [
    "# low performers\n",
    "low_performers = df[df['PerformanceRating'] <= 2]\n",
    "print(\"Low Performers:\\n\", low_performers)"
   ]
  },
  {
   "cell_type": "markdown",
   "id": "213c84a5-cf2c-448f-a052-86a6bd5cd827",
   "metadata": {},
   "source": [
    "#   visuavaliztions"
   ]
  },
  {
   "cell_type": "code",
   "execution_count": 43,
   "id": "e36d3358-28a0-440b-bdd3-153797782f31",
   "metadata": {},
   "outputs": [
    {
     "name": "stderr",
     "output_type": "stream",
     "text": [
      "C:\\Users\\hp\\AppData\\Local\\Temp\\ipykernel_13420\\193506440.py:8: FutureWarning: \n",
      "\n",
      "Passing `palette` without assigning `hue` is deprecated and will be removed in v0.14.0. Assign the `x` variable to `hue` and set `legend=False` for the same effect.\n",
      "\n",
      "  sns.barplot(data=avg_salary_by_dept, x='Department', y='Salary', palette='viridis')\n"
     ]
    },
    {
     "data": {
      "image/png": "[encoded data removed]",
      "text/plain": [
       "<Figure size 800x500 with 1 Axes>"
      ]
     },
     "metadata": {},
     "output_type": "display_data"
    }
   ],
   "source": [
    "import matplotlib.pyplot as plt\n",
    "import seaborn as sns\n",
    "\n",
    "# Group by department\n",
    "avg_salary_by_dept = df.groupby('Department')['Salary'].mean().reset_index()\n",
    "\n",
    "plt.figure(figsize=(8,5))\n",
    "sns.barplot(data=avg_salary_by_dept, x='Department', y='Salary', palette='viridis')\n",
    "plt.title(\"Average Salary by Department\")\n",
    "plt.ylabel(\"Average Salary\")\n",
    "plt.xlabel(\"Department\")\n",
    "plt.xticks(rotation=45)\n",
    "plt.tight_layout()\n",
    "plt.show()"
   ]
  },
  {
   "cell_type": "code",
   "execution_count": 44,
   "id": "7acb6995-ecab-4c3c-a07a-8861fd8ae059",
   "metadata": {},
   "outputs": [
    {
     "data": {
      "image/png": "[encoded data removed]",
      "text/plain": [
       "<Figure size 600x600 with 1 Axes>"
      ]
     },
     "metadata": {},
     "output_type": "display_data"
    }
   ],
   "source": [
    "gender_counts = df['Gender'].value_counts()\n",
    "\n",
    "plt.figure(figsize=(6,6))\n",
    "plt.pie(gender_counts, labels=gender_counts.index, autopct='%1.1f%%', startangle=140, colors=['lightblue','lightcoral'])\n",
    "plt.title(\"Gender Distribution\")\n",
    "plt.show()\n"
   ]
  },
  {
   "cell_type": "code",
   "execution_count": 45,
   "id": "9be2a563-8a2d-4638-8071-51e75c416ddb",
   "metadata": {},
   "outputs": [
    {
     "name": "stderr",
     "output_type": "stream",
     "text": [
      "C:\\Users\\hp\\AppData\\Local\\Temp\\ipykernel_13420\\1981149175.py:2: FutureWarning: \n",
      "\n",
      "Passing `palette` without assigning `hue` is deprecated and will be removed in v0.14.0. Assign the `x` variable to `hue` and set `legend=False` for the same effect.\n",
      "\n",
      "  sns.countplot(data=df, x='PerformanceRating', palette='Set2')\n"
     ]
    },
    {
     "data": {
      "image/png": "[encoded data removed]",
      "text/plain": [
       "<Figure size 800x500 with 1 Axes>"
      ]
     },
     "metadata": {},
     "output_type": "display_data"
    }
   ],
   "source": [
    "plt.figure(figsize=(8,5))\n",
    "sns.countplot(data=df, x='PerformanceRating', palette='Set2')\n",
    "plt.title(\"Performance Rating Distribution\")\n",
    "plt.xlabel(\"Performance Rating\")\n",
    "plt.ylabel(\"Number of Employees\")\n",
    "plt.show()\n"
   ]
  },
  {
   "cell_type": "code",
   "execution_count": 53,
   "id": "e025123a-fa5a-428a-be44-d8ce808cc9da",
   "metadata": {},
   "outputs": [
    {
     "name": "stdout",
     "output_type": "stream",
     "text": [
      "Requirement already satisfied: xlsxwriter in c:\\users\\hp\\appdata\\local\\programs\\python\\python313\\lib\\site-packages (3.2.5)\n"
     ]
    },
    {
     "name": "stderr",
     "output_type": "stream",
     "text": [
      "\n",
      "[notice] A new release of pip is available: 25.0.1 -> 25.1.1\n",
      "[notice] To update, run: python.exe -m pip install --upgrade pip\n"
     ]
    }
   ],
   "source": [
    "!pip install xlsxwriter"
   ]
  },
  {
   "cell_type": "code",
   "execution_count": 55,
   "id": "6321c8db-8e6f-4c4a-9a53-a84327509d7c",
   "metadata": {},
   "outputs": [
    {
     "name": "stdout",
     "output_type": "stream",
     "text": [
      "All outputs saved to employee_analysis.xlsx successfully.\n"
     ]
    }
   ],
   "source": [
    "with pd.ExcelWriter(\"employee_analysis.xlsx\", engine=\"xlsxwriter\") as writer:\n",
    "    # cleaned data\n",
    "    df.to_excel(writer, sheet_name=\"Cleaned_Data\", index=False)\n",
    "    \n",
    "    # summary 1: avg salary by department\n",
    "    avg_sal_by_dept.reset_index().to_excel(writer, sheet_name=\"Avg_Salary_By_Dept\", index=False)\n",
    "    \n",
    "    # summary 2: gender count by department\n",
    "    gender_count_by_dept.reset_index().to_excel(writer, sheet_name=\"Gender_Count_By_Dept\", index=False)\n",
    "    \n",
    "    # summary 3: avg rating by department\n",
    "    avg_rating_by_dept.reset_index().to_excel(writer, sheet_name=\"Avg_Rating_By_Dept\", index=False)\n",
    "    \n",
    "    # summary 4: low performers\n",
    "    low_performers.to_excel(writer, sheet_name=\"Low_Performers\", index=False)\n",
    "\n",
    "print(\"All outputs saved to employee_analysis.xlsx successfully.\")\n"
   ]
  }
 ],
 "metadata": {
  "kernelspec": {
   "display_name": "Python 3 (ipykernel)",
   "language": "python",
   "name": "python3"
  },
  "language_info": {
   "codemirror_mode": {
    "name": "ipython",
    "version": 3
   },
   "file_extension": ".py",
   "mimetype": "text/x-python",
   "name": "python",
   "nbconvert_exporter": "python",
   "pygments_lexer": "ipython3",
   "version": "3.13.2"
  }
 },
 "nbformat": 4,
 "nbformat_minor": 5
}
